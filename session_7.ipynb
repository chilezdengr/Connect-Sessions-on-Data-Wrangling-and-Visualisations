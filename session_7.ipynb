{
  "cells": [
    {
      "cell_type": "markdown",
      "metadata": {
        "id": "view-in-github",
        "colab_type": "text"
      },
      "source": [
        "<a href=\"https://colab.research.google.com/github/chilezdengr/Connect-Sessions-on-Data-Wrangling-and-Visualisations/blob/main/session_7.ipynb\" target=\"_parent\"><img src=\"https://colab.research.google.com/assets/colab-badge.svg\" alt=\"Open In Colab\"/></a>"
      ]
    },
    {
      "cell_type": "markdown",
      "id": "dae80b08",
      "metadata": {
        "id": "dae80b08"
      },
      "source": [
        "## Tweepy and Final project Problems"
      ]
    },
    {
      "cell_type": "code",
      "execution_count": null,
      "id": "88fe94c6",
      "metadata": {
        "id": "88fe94c6",
        "outputId": "f049cde0-16fd-4d88-b415-b3f085e78658"
      },
      "outputs": [
        {
          "name": "stdout",
          "output_type": "stream",
          "text": [
            "Requirement already satisfied: tweepy in c:\\users\\hp\\anaconda3\\lib\\site-packages (4.10.1)\n",
            "Requirement already satisfied: oauthlib<4,>=3.2.0 in c:\\users\\hp\\anaconda3\\lib\\site-packages (from tweepy) (3.2.0)\n",
            "Requirement already satisfied: requests<3,>=2.27.0 in c:\\users\\hp\\anaconda3\\lib\\site-packages (from tweepy) (2.28.1)\n",
            "Requirement already satisfied: requests-oauthlib<2,>=1.2.0 in c:\\users\\hp\\anaconda3\\lib\\site-packages (from tweepy) (1.3.0)\n",
            "Requirement already satisfied: idna<4,>=2.5 in c:\\users\\hp\\anaconda3\\lib\\site-packages (from requests<3,>=2.27.0->tweepy) (2.9)\n",
            "Requirement already satisfied: charset-normalizer<3,>=2 in c:\\users\\hp\\anaconda3\\lib\\site-packages (from requests<3,>=2.27.0->tweepy) (2.0.4)\n",
            "Requirement already satisfied: certifi>=2017.4.17 in c:\\users\\hp\\anaconda3\\lib\\site-packages (from requests<3,>=2.27.0->tweepy) (2020.4.5.1)\n",
            "Requirement already satisfied: urllib3<1.27,>=1.21.1 in c:\\users\\hp\\anaconda3\\lib\\site-packages (from requests<3,>=2.27.0->tweepy) (1.25.9)\n"
          ]
        }
      ],
      "source": [
        "!pip install tweepy"
      ]
    },
    {
      "cell_type": "code",
      "execution_count": null,
      "id": "d3fcc6db",
      "metadata": {
        "id": "d3fcc6db"
      },
      "outputs": [],
      "source": [
        "import pandas as pd\n",
        "import numpy as np\n",
        "import tweepy\n",
        "from tweepy import OAuthHandler\n",
        "import json\n",
        "from timeit import default_timer as timer"
      ]
    },
    {
      "cell_type": "markdown",
      "id": "7df5ad4e",
      "metadata": {
        "id": "7df5ad4e"
      },
      "source": [
        "## Recap: USING JSON"
      ]
    },
    {
      "cell_type": "code",
      "execution_count": null,
      "id": "00948a77",
      "metadata": {
        "id": "00948a77"
      },
      "outputs": [],
      "source": [
        "#import a json file\n",
        "with open('my_twitter_credentials.json', 'r') as f:\n",
        "    credentials = json.load(f)"
      ]
    },
    {
      "cell_type": "code",
      "execution_count": null,
      "id": "cec24512",
      "metadata": {
        "id": "cec24512",
        "outputId": "59e9a58c-0351-451b-a3c4-f3dac35a1985"
      },
      "outputs": [
        {
          "name": "stdout",
          "output_type": "stream",
          "text": [
            "File input: {'access_token': 'qwdfghjk', 'consumer_key': '1234567890', 'access_secret': 'qwertyuioprty', 'consumer_secret': '12345678'} \n",
            "Data type: <class 'dict'>\n"
          ]
        }
      ],
      "source": [
        "print('File input:',credentials, '\\nData type:',type(credentials))"
      ]
    },
    {
      "cell_type": "code",
      "execution_count": null,
      "id": "22b9580b",
      "metadata": {
        "id": "22b9580b"
      },
      "outputs": [],
      "source": [
        "consumer_key = credentials['consumer_key']\n",
        "consumer_secret = credentials['consumer_secret']\n",
        "access_token = credentials['access_token']\n",
        "access_secret = credentials['access_secret']"
      ]
    },
    {
      "cell_type": "markdown",
      "id": "c58182b5",
      "metadata": {
        "id": "c58182b5"
      },
      "source": [
        "USING A TXT FILE \n",
        "\n",
        "TXT files can hold the same ddata but they require more care."
      ]
    },
    {
      "cell_type": "code",
      "execution_count": null,
      "id": "9b5bd20c",
      "metadata": {
        "id": "9b5bd20c"
      },
      "outputs": [],
      "source": [
        "with open('my_twitter_credentials.txt', 'r') as f:\n",
        "    text_credentials = f.readlines()"
      ]
    },
    {
      "cell_type": "code",
      "execution_count": null,
      "id": "fa406aa2",
      "metadata": {
        "id": "fa406aa2",
        "outputId": "17afdf8a-11d3-4725-ad1a-741c73b47bed"
      },
      "outputs": [
        {
          "data": {
            "text/plain": [
              "list"
            ]
          },
          "execution_count": 86,
          "metadata": {},
          "output_type": "execute_result"
        }
      ],
      "source": [
        "type(text_credentials)"
      ]
    },
    {
      "cell_type": "code",
      "execution_count": null,
      "id": "2233ecc4",
      "metadata": {
        "id": "2233ecc4",
        "outputId": "d9f81ea5-83cc-48c0-e22a-6c5b5cb0a9b5"
      },
      "outputs": [
        {
          "data": {
            "text/plain": [
              "['qwertyuioprty\\n', '1234567890\\n', '12345678\\n', 'qwdfghjk']"
            ]
          },
          "execution_count": 87,
          "metadata": {},
          "output_type": "execute_result"
        }
      ],
      "source": [
        "text_credentials"
      ]
    },
    {
      "cell_type": "code",
      "execution_count": null,
      "id": "4d18986c",
      "metadata": {
        "id": "4d18986c"
      },
      "outputs": [],
      "source": [
        "consumer_key = text_credentials[0].strip()\n",
        "consumer_secret = text_credentials[1].strip()\n",
        "access_token = text_credentials[2].strip()\n",
        "access_secret = text_credentials[3].strip()"
      ]
    },
    {
      "cell_type": "code",
      "execution_count": null,
      "id": "c4e58dc4",
      "metadata": {
        "id": "c4e58dc4",
        "outputId": "cb0e8070-eef1-4c7b-9256-29ba302afa23"
      },
      "outputs": [
        {
          "data": {
            "text/plain": [
              "['qwertyuioprty', '1234567890', '12345678', 'qwdfghjk']"
            ]
          },
          "execution_count": 89,
          "metadata": {},
          "output_type": "execute_result"
        }
      ],
      "source": [
        "[consumer_key, consumer_secret,access_token,access_secret]"
      ]
    },
    {
      "cell_type": "markdown",
      "id": "64241769",
      "metadata": {
        "id": "64241769"
      },
      "source": [
        "NOTE:\n",
        "\n",
        "We can style the txt files the same way as tweet-json from last lesson. We can place a json in a txt file and use open and for each line, we can use json.loads to read in the data."
      ]
    },
    {
      "cell_type": "code",
      "execution_count": null,
      "id": "68c9d84c",
      "metadata": {
        "id": "68c9d84c"
      },
      "outputs": [],
      "source": [
        "### USING TWEEPY"
      ]
    },
    {
      "cell_type": "code",
      "execution_count": null,
      "id": "d7e3807c",
      "metadata": {
        "id": "d7e3807c",
        "outputId": "dd4c6aae-d0aa-4772-b8a8-52707996037b"
      },
      "outputs": [
        {
          "ename": "NameError",
          "evalue": "name 'df_1' is not defined",
          "output_type": "error",
          "traceback": [
            "\u001b[1;31m---------------------------------------------------------------------------\u001b[0m",
            "\u001b[1;31mNameError\u001b[0m                                 Traceback (most recent call last)",
            "Input \u001b[1;32mIn [91]\u001b[0m, in \u001b[0;36m<cell line: 21>\u001b[1;34m()\u001b[0m\n\u001b[0;32m     13\u001b[0m api \u001b[38;5;241m=\u001b[39m tweepy\u001b[38;5;241m.\u001b[39mAPI(auth, wait_on_rate_limit\u001b[38;5;241m=\u001b[39m\u001b[38;5;28;01mTrue\u001b[39;00m)\n\u001b[0;32m     15\u001b[0m \u001b[38;5;66;03m# NOTE TO STUDENT WITH MOBILE VERIFICATION ISSUES:\u001b[39;00m\n\u001b[0;32m     16\u001b[0m \u001b[38;5;66;03m# df_1 is a DataFrame with the twitter_archive_enhanced.csv file. You may have to\u001b[39;00m\n\u001b[0;32m     17\u001b[0m \u001b[38;5;66;03m# change line 17 to match the name of your DataFrame with twitter_archive_enhanced.csv\u001b[39;00m\n\u001b[0;32m     18\u001b[0m \u001b[38;5;66;03m# NOTE TO REVIEWER: this student had mobile verification issues so the following\u001b[39;00m\n\u001b[0;32m     19\u001b[0m \u001b[38;5;66;03m# Twitter API code was sent to this student from a Udacity instructor\u001b[39;00m\n\u001b[0;32m     20\u001b[0m \u001b[38;5;66;03m# Tweet IDs for which to gather additional data via Twitter's API\u001b[39;00m\n\u001b[1;32m---> 21\u001b[0m tweet_ids \u001b[38;5;241m=\u001b[39m \u001b[43mdf_1\u001b[49m\u001b[38;5;241m.\u001b[39mtweet_id\u001b[38;5;241m.\u001b[39mvalues\n\u001b[0;32m     22\u001b[0m \u001b[38;5;28mlen\u001b[39m(tweet_ids)\n\u001b[0;32m     24\u001b[0m \u001b[38;5;66;03m# Query Twitter's API for JSON data for each tweet ID in the Twitter archive\u001b[39;00m\n",
            "\u001b[1;31mNameError\u001b[0m: name 'df_1' is not defined"
          ]
        }
      ],
      "source": [
        "#This section was not covered\n",
        "\n",
        "# Query Twitter API for each tweet in the Twitter archive and save JSON in a text file\n",
        "# These are hidden to comply with Twitter's API terms and conditions\n",
        "consumer_key = credentials['consumer_key']\n",
        "consumer_secret = credentials['consumer_secret']\n",
        "access_token = credentials['access_token']\n",
        "access_secret = credentials['access_secret']\n",
        "\n",
        "auth = OAuthHandler(consumer_key, consumer_secret)\n",
        "auth.set_access_token(access_token, access_secret)\n",
        "\n",
        "api = tweepy.API(auth, wait_on_rate_limit=True)\n",
        "\n",
        "# NOTE TO STUDENT WITH MOBILE VERIFICATION ISSUES:\n",
        "# df_1 is a DataFrame with the twitter_archive_enhanced.csv file. You may have to\n",
        "# change line 17 to match the name of your DataFrame with twitter_archive_enhanced.csv\n",
        "# NOTE TO REVIEWER: this student had mobile verification issues so the following\n",
        "# Twitter API code was sent to this student from a Udacity instructor\n",
        "# Tweet IDs for which to gather additional data via Twitter's API\n",
        "tweet_ids = df_1.tweet_id.values\n",
        "len(tweet_ids)\n",
        "\n",
        "# Query Twitter's API for JSON data for each tweet ID in the Twitter archive\n",
        "count = 0\n",
        "fails_dict = {}\n",
        "start = timer()\n",
        "# Save each tweet's returned JSON as a new line in a .txt file\n",
        "with open('tweet_json.txt', 'w') as outfile:\n",
        "    # This loop will likely take 20-30 minutes to run because of Twitter's rate limit\n",
        "    for tweet_id in tweet_ids:\n",
        "        count += 1\n",
        "        print(str(count) + \": \" + str(tweet_id))\n",
        "        try:\n",
        "            tweet = api.get_status(tweet_id, tweet_mode='extended')\n",
        "            print(\"Success\")\n",
        "            json.dump(tweet._json, outfile)\n",
        "            outfile.write('\\n')\n",
        "        except tweepy.TweepError as e:\n",
        "            print(\"Fail\")\n",
        "            fails_dict[tweet_id] = e\n",
        "            pass\n",
        "end = timer()\n",
        "print(end - start)\n",
        "print(fails_dict)"
      ]
    },
    {
      "cell_type": "markdown",
      "id": "14f6c6b3",
      "metadata": {
        "id": "14f6c6b3"
      },
      "source": [
        "### TWITTER ARCHIVE"
      ]
    },
    {
      "cell_type": "code",
      "execution_count": null,
      "id": "102d1544",
      "metadata": {
        "id": "102d1544"
      },
      "outputs": [],
      "source": [
        "import pandas as pd"
      ]
    },
    {
      "cell_type": "code",
      "execution_count": null,
      "id": "3f733262",
      "metadata": {
        "id": "3f733262"
      },
      "outputs": [],
      "source": [
        "df_archive = pd.read_csv('twitter-archive-enhanced.csv')"
      ]
    },
    {
      "cell_type": "code",
      "execution_count": null,
      "id": "6881fe8d",
      "metadata": {
        "id": "6881fe8d",
        "outputId": "0da895ad-a50a-4e22-f7b2-4c03c15d355d"
      },
      "outputs": [
        {
          "data": {
            "text/html": [
              "<div>\n",
              "<style scoped>\n",
              "    .dataframe tbody tr th:only-of-type {\n",
              "        vertical-align: middle;\n",
              "    }\n",
              "\n",
              "    .dataframe tbody tr th {\n",
              "        vertical-align: top;\n",
              "    }\n",
              "\n",
              "    .dataframe thead th {\n",
              "        text-align: right;\n",
              "    }\n",
              "</style>\n",
              "<table border=\"1\" class=\"dataframe\">\n",
              "  <thead>\n",
              "    <tr style=\"text-align: right;\">\n",
              "      <th></th>\n",
              "      <th>tweet_id</th>\n",
              "      <th>in_reply_to_status_id</th>\n",
              "      <th>in_reply_to_user_id</th>\n",
              "      <th>timestamp</th>\n",
              "      <th>source</th>\n",
              "      <th>text</th>\n",
              "      <th>retweeted_status_id</th>\n",
              "      <th>retweeted_status_user_id</th>\n",
              "      <th>retweeted_status_timestamp</th>\n",
              "      <th>expanded_urls</th>\n",
              "      <th>rating_numerator</th>\n",
              "      <th>rating_denominator</th>\n",
              "      <th>name</th>\n",
              "      <th>doggo</th>\n",
              "      <th>floofer</th>\n",
              "      <th>pupper</th>\n",
              "      <th>puppo</th>\n",
              "    </tr>\n",
              "  </thead>\n",
              "  <tbody>\n",
              "    <tr>\n",
              "      <th>0</th>\n",
              "      <td>892420643555336193</td>\n",
              "      <td>NaN</td>\n",
              "      <td>NaN</td>\n",
              "      <td>2017-08-01 16:23:56 +0000</td>\n",
              "      <td>&lt;a href=\"http://twitter.com/download/iphone\" r...</td>\n",
              "      <td>This is Phineas. He's a mystical boy. Only eve...</td>\n",
              "      <td>NaN</td>\n",
              "      <td>NaN</td>\n",
              "      <td>NaN</td>\n",
              "      <td>https://twitter.com/dog_rates/status/892420643...</td>\n",
              "      <td>13</td>\n",
              "      <td>10</td>\n",
              "      <td>Phineas</td>\n",
              "      <td>None</td>\n",
              "      <td>None</td>\n",
              "      <td>None</td>\n",
              "      <td>None</td>\n",
              "    </tr>\n",
              "    <tr>\n",
              "      <th>1</th>\n",
              "      <td>892177421306343426</td>\n",
              "      <td>NaN</td>\n",
              "      <td>NaN</td>\n",
              "      <td>2017-08-01 00:17:27 +0000</td>\n",
              "      <td>&lt;a href=\"http://twitter.com/download/iphone\" r...</td>\n",
              "      <td>This is Tilly. She's just checking pup on you....</td>\n",
              "      <td>NaN</td>\n",
              "      <td>NaN</td>\n",
              "      <td>NaN</td>\n",
              "      <td>https://twitter.com/dog_rates/status/892177421...</td>\n",
              "      <td>13</td>\n",
              "      <td>10</td>\n",
              "      <td>Tilly</td>\n",
              "      <td>None</td>\n",
              "      <td>None</td>\n",
              "      <td>None</td>\n",
              "      <td>None</td>\n",
              "    </tr>\n",
              "    <tr>\n",
              "      <th>2</th>\n",
              "      <td>891815181378084864</td>\n",
              "      <td>NaN</td>\n",
              "      <td>NaN</td>\n",
              "      <td>2017-07-31 00:18:03 +0000</td>\n",
              "      <td>&lt;a href=\"http://twitter.com/download/iphone\" r...</td>\n",
              "      <td>This is Archie. He is a rare Norwegian Pouncin...</td>\n",
              "      <td>NaN</td>\n",
              "      <td>NaN</td>\n",
              "      <td>NaN</td>\n",
              "      <td>https://twitter.com/dog_rates/status/891815181...</td>\n",
              "      <td>12</td>\n",
              "      <td>10</td>\n",
              "      <td>Archie</td>\n",
              "      <td>None</td>\n",
              "      <td>None</td>\n",
              "      <td>None</td>\n",
              "      <td>None</td>\n",
              "    </tr>\n",
              "    <tr>\n",
              "      <th>3</th>\n",
              "      <td>891689557279858688</td>\n",
              "      <td>NaN</td>\n",
              "      <td>NaN</td>\n",
              "      <td>2017-07-30 15:58:51 +0000</td>\n",
              "      <td>&lt;a href=\"http://twitter.com/download/iphone\" r...</td>\n",
              "      <td>This is Darla. She commenced a snooze mid meal...</td>\n",
              "      <td>NaN</td>\n",
              "      <td>NaN</td>\n",
              "      <td>NaN</td>\n",
              "      <td>https://twitter.com/dog_rates/status/891689557...</td>\n",
              "      <td>13</td>\n",
              "      <td>10</td>\n",
              "      <td>Darla</td>\n",
              "      <td>None</td>\n",
              "      <td>None</td>\n",
              "      <td>None</td>\n",
              "      <td>None</td>\n",
              "    </tr>\n",
              "    <tr>\n",
              "      <th>4</th>\n",
              "      <td>891327558926688256</td>\n",
              "      <td>NaN</td>\n",
              "      <td>NaN</td>\n",
              "      <td>2017-07-29 16:00:24 +0000</td>\n",
              "      <td>&lt;a href=\"http://twitter.com/download/iphone\" r...</td>\n",
              "      <td>This is Franklin. He would like you to stop ca...</td>\n",
              "      <td>NaN</td>\n",
              "      <td>NaN</td>\n",
              "      <td>NaN</td>\n",
              "      <td>https://twitter.com/dog_rates/status/891327558...</td>\n",
              "      <td>12</td>\n",
              "      <td>10</td>\n",
              "      <td>Franklin</td>\n",
              "      <td>None</td>\n",
              "      <td>None</td>\n",
              "      <td>None</td>\n",
              "      <td>None</td>\n",
              "    </tr>\n",
              "  </tbody>\n",
              "</table>\n",
              "</div>"
            ],
            "text/plain": [
              "             tweet_id  in_reply_to_status_id  in_reply_to_user_id  \\\n",
              "0  892420643555336193                    NaN                  NaN   \n",
              "1  892177421306343426                    NaN                  NaN   \n",
              "2  891815181378084864                    NaN                  NaN   \n",
              "3  891689557279858688                    NaN                  NaN   \n",
              "4  891327558926688256                    NaN                  NaN   \n",
              "\n",
              "                   timestamp  \\\n",
              "0  2017-08-01 16:23:56 +0000   \n",
              "1  2017-08-01 00:17:27 +0000   \n",
              "2  2017-07-31 00:18:03 +0000   \n",
              "3  2017-07-30 15:58:51 +0000   \n",
              "4  2017-07-29 16:00:24 +0000   \n",
              "\n",
              "                                              source  \\\n",
              "0  <a href=\"http://twitter.com/download/iphone\" r...   \n",
              "1  <a href=\"http://twitter.com/download/iphone\" r...   \n",
              "2  <a href=\"http://twitter.com/download/iphone\" r...   \n",
              "3  <a href=\"http://twitter.com/download/iphone\" r...   \n",
              "4  <a href=\"http://twitter.com/download/iphone\" r...   \n",
              "\n",
              "                                                text  retweeted_status_id  \\\n",
              "0  This is Phineas. He's a mystical boy. Only eve...                  NaN   \n",
              "1  This is Tilly. She's just checking pup on you....                  NaN   \n",
              "2  This is Archie. He is a rare Norwegian Pouncin...                  NaN   \n",
              "3  This is Darla. She commenced a snooze mid meal...                  NaN   \n",
              "4  This is Franklin. He would like you to stop ca...                  NaN   \n",
              "\n",
              "   retweeted_status_user_id retweeted_status_timestamp  \\\n",
              "0                       NaN                        NaN   \n",
              "1                       NaN                        NaN   \n",
              "2                       NaN                        NaN   \n",
              "3                       NaN                        NaN   \n",
              "4                       NaN                        NaN   \n",
              "\n",
              "                                       expanded_urls  rating_numerator  \\\n",
              "0  https://twitter.com/dog_rates/status/892420643...                13   \n",
              "1  https://twitter.com/dog_rates/status/892177421...                13   \n",
              "2  https://twitter.com/dog_rates/status/891815181...                12   \n",
              "3  https://twitter.com/dog_rates/status/891689557...                13   \n",
              "4  https://twitter.com/dog_rates/status/891327558...                12   \n",
              "\n",
              "   rating_denominator      name doggo floofer pupper puppo  \n",
              "0                  10   Phineas  None    None   None  None  \n",
              "1                  10     Tilly  None    None   None  None  \n",
              "2                  10    Archie  None    None   None  None  \n",
              "3                  10     Darla  None    None   None  None  \n",
              "4                  10  Franklin  None    None   None  None  "
            ]
          },
          "execution_count": 67,
          "metadata": {},
          "output_type": "execute_result"
        }
      ],
      "source": [
        "df_archive.head()"
      ]
    },
    {
      "cell_type": "code",
      "execution_count": null,
      "id": "40846758",
      "metadata": {
        "id": "40846758",
        "outputId": "8d1c697d-7956-433b-daa5-bf4ea8e598d2"
      },
      "outputs": [
        {
          "data": {
            "text/plain": [
              "[\"This is Phineas. He's a mystical boy. Only ever appears in the hole of a donut. 13/10 https://t.co/MgUWQ76dJU\",\n",
              " \"This is Tilly. She's just checking pup on you. Hopes you're doing ok. If not, she's available for pats, snugs, boops, the whole bit. 13/10 https://t.co/0Xxu71qeIV\"]"
            ]
          },
          "execution_count": 78,
          "metadata": {},
          "output_type": "execute_result"
        }
      ],
      "source": [
        "list(df_archive['text'][:2])"
      ]
    },
    {
      "cell_type": "code",
      "execution_count": null,
      "id": "6995469e",
      "metadata": {
        "id": "6995469e"
      },
      "outputs": [],
      "source": [
        "##Write to csv file"
      ]
    },
    {
      "cell_type": "code",
      "execution_count": null,
      "id": "a8ce76ea",
      "metadata": {
        "id": "a8ce76ea"
      },
      "outputs": [],
      "source": [
        "df_archive.to_csv('cleaned_archive.csv')"
      ]
    },
    {
      "cell_type": "code",
      "execution_count": null,
      "id": "6e8486bf",
      "metadata": {
        "id": "6e8486bf",
        "outputId": "3efceebb-dc85-4059-cb52-95949db0d681"
      },
      "outputs": [
        {
          "data": {
            "text/html": [
              "<div>\n",
              "<style scoped>\n",
              "    .dataframe tbody tr th:only-of-type {\n",
              "        vertical-align: middle;\n",
              "    }\n",
              "\n",
              "    .dataframe tbody tr th {\n",
              "        vertical-align: top;\n",
              "    }\n",
              "\n",
              "    .dataframe thead th {\n",
              "        text-align: right;\n",
              "    }\n",
              "</style>\n",
              "<table border=\"1\" class=\"dataframe\">\n",
              "  <thead>\n",
              "    <tr style=\"text-align: right;\">\n",
              "      <th></th>\n",
              "      <th>Unnamed: 0</th>\n",
              "      <th>tweet_id</th>\n",
              "      <th>in_reply_to_status_id</th>\n",
              "      <th>in_reply_to_user_id</th>\n",
              "      <th>timestamp</th>\n",
              "      <th>source</th>\n",
              "      <th>text</th>\n",
              "      <th>retweeted_status_id</th>\n",
              "      <th>retweeted_status_user_id</th>\n",
              "      <th>retweeted_status_timestamp</th>\n",
              "      <th>expanded_urls</th>\n",
              "      <th>rating_numerator</th>\n",
              "      <th>rating_denominator</th>\n",
              "      <th>name</th>\n",
              "      <th>doggo</th>\n",
              "      <th>floofer</th>\n",
              "      <th>pupper</th>\n",
              "      <th>puppo</th>\n",
              "    </tr>\n",
              "  </thead>\n",
              "  <tbody>\n",
              "    <tr>\n",
              "      <th>0</th>\n",
              "      <td>0</td>\n",
              "      <td>892420643555336193</td>\n",
              "      <td>NaN</td>\n",
              "      <td>NaN</td>\n",
              "      <td>2017-08-01 16:23:56 +0000</td>\n",
              "      <td>&lt;a href=\"http://twitter.com/download/iphone\" r...</td>\n",
              "      <td>This is Phineas. He's a mystical boy. Only eve...</td>\n",
              "      <td>NaN</td>\n",
              "      <td>NaN</td>\n",
              "      <td>NaN</td>\n",
              "      <td>https://twitter.com/dog_rates/status/892420643...</td>\n",
              "      <td>13</td>\n",
              "      <td>10</td>\n",
              "      <td>Phineas</td>\n",
              "      <td>None</td>\n",
              "      <td>None</td>\n",
              "      <td>None</td>\n",
              "      <td>None</td>\n",
              "    </tr>\n",
              "    <tr>\n",
              "      <th>1</th>\n",
              "      <td>1</td>\n",
              "      <td>892177421306343426</td>\n",
              "      <td>NaN</td>\n",
              "      <td>NaN</td>\n",
              "      <td>2017-08-01 00:17:27 +0000</td>\n",
              "      <td>&lt;a href=\"http://twitter.com/download/iphone\" r...</td>\n",
              "      <td>This is Tilly. She's just checking pup on you....</td>\n",
              "      <td>NaN</td>\n",
              "      <td>NaN</td>\n",
              "      <td>NaN</td>\n",
              "      <td>https://twitter.com/dog_rates/status/892177421...</td>\n",
              "      <td>13</td>\n",
              "      <td>10</td>\n",
              "      <td>Tilly</td>\n",
              "      <td>None</td>\n",
              "      <td>None</td>\n",
              "      <td>None</td>\n",
              "      <td>None</td>\n",
              "    </tr>\n",
              "    <tr>\n",
              "      <th>2</th>\n",
              "      <td>2</td>\n",
              "      <td>891815181378084864</td>\n",
              "      <td>NaN</td>\n",
              "      <td>NaN</td>\n",
              "      <td>2017-07-31 00:18:03 +0000</td>\n",
              "      <td>&lt;a href=\"http://twitter.com/download/iphone\" r...</td>\n",
              "      <td>This is Archie. He is a rare Norwegian Pouncin...</td>\n",
              "      <td>NaN</td>\n",
              "      <td>NaN</td>\n",
              "      <td>NaN</td>\n",
              "      <td>https://twitter.com/dog_rates/status/891815181...</td>\n",
              "      <td>12</td>\n",
              "      <td>10</td>\n",
              "      <td>Archie</td>\n",
              "      <td>None</td>\n",
              "      <td>None</td>\n",
              "      <td>None</td>\n",
              "      <td>None</td>\n",
              "    </tr>\n",
              "    <tr>\n",
              "      <th>3</th>\n",
              "      <td>3</td>\n",
              "      <td>891689557279858688</td>\n",
              "      <td>NaN</td>\n",
              "      <td>NaN</td>\n",
              "      <td>2017-07-30 15:58:51 +0000</td>\n",
              "      <td>&lt;a href=\"http://twitter.com/download/iphone\" r...</td>\n",
              "      <td>This is Darla. She commenced a snooze mid meal...</td>\n",
              "      <td>NaN</td>\n",
              "      <td>NaN</td>\n",
              "      <td>NaN</td>\n",
              "      <td>https://twitter.com/dog_rates/status/891689557...</td>\n",
              "      <td>13</td>\n",
              "      <td>10</td>\n",
              "      <td>Darla</td>\n",
              "      <td>None</td>\n",
              "      <td>None</td>\n",
              "      <td>None</td>\n",
              "      <td>None</td>\n",
              "    </tr>\n",
              "    <tr>\n",
              "      <th>4</th>\n",
              "      <td>4</td>\n",
              "      <td>891327558926688256</td>\n",
              "      <td>NaN</td>\n",
              "      <td>NaN</td>\n",
              "      <td>2017-07-29 16:00:24 +0000</td>\n",
              "      <td>&lt;a href=\"http://twitter.com/download/iphone\" r...</td>\n",
              "      <td>This is Franklin. He would like you to stop ca...</td>\n",
              "      <td>NaN</td>\n",
              "      <td>NaN</td>\n",
              "      <td>NaN</td>\n",
              "      <td>https://twitter.com/dog_rates/status/891327558...</td>\n",
              "      <td>12</td>\n",
              "      <td>10</td>\n",
              "      <td>Franklin</td>\n",
              "      <td>None</td>\n",
              "      <td>None</td>\n",
              "      <td>None</td>\n",
              "      <td>None</td>\n",
              "    </tr>\n",
              "    <tr>\n",
              "      <th>...</th>\n",
              "      <td>...</td>\n",
              "      <td>...</td>\n",
              "      <td>...</td>\n",
              "      <td>...</td>\n",
              "      <td>...</td>\n",
              "      <td>...</td>\n",
              "      <td>...</td>\n",
              "      <td>...</td>\n",
              "      <td>...</td>\n",
              "      <td>...</td>\n",
              "      <td>...</td>\n",
              "      <td>...</td>\n",
              "      <td>...</td>\n",
              "      <td>...</td>\n",
              "      <td>...</td>\n",
              "      <td>...</td>\n",
              "      <td>...</td>\n",
              "      <td>...</td>\n",
              "    </tr>\n",
              "    <tr>\n",
              "      <th>2351</th>\n",
              "      <td>2351</td>\n",
              "      <td>666049248165822465</td>\n",
              "      <td>NaN</td>\n",
              "      <td>NaN</td>\n",
              "      <td>2015-11-16 00:24:50 +0000</td>\n",
              "      <td>&lt;a href=\"http://twitter.com/download/iphone\" r...</td>\n",
              "      <td>Here we have a 1949 1st generation vulpix. Enj...</td>\n",
              "      <td>NaN</td>\n",
              "      <td>NaN</td>\n",
              "      <td>NaN</td>\n",
              "      <td>https://twitter.com/dog_rates/status/666049248...</td>\n",
              "      <td>5</td>\n",
              "      <td>10</td>\n",
              "      <td>None</td>\n",
              "      <td>None</td>\n",
              "      <td>None</td>\n",
              "      <td>None</td>\n",
              "      <td>None</td>\n",
              "    </tr>\n",
              "    <tr>\n",
              "      <th>2352</th>\n",
              "      <td>2352</td>\n",
              "      <td>666044226329800704</td>\n",
              "      <td>NaN</td>\n",
              "      <td>NaN</td>\n",
              "      <td>2015-11-16 00:04:52 +0000</td>\n",
              "      <td>&lt;a href=\"http://twitter.com/download/iphone\" r...</td>\n",
              "      <td>This is a purebred Piers Morgan. Loves to Netf...</td>\n",
              "      <td>NaN</td>\n",
              "      <td>NaN</td>\n",
              "      <td>NaN</td>\n",
              "      <td>https://twitter.com/dog_rates/status/666044226...</td>\n",
              "      <td>6</td>\n",
              "      <td>10</td>\n",
              "      <td>a</td>\n",
              "      <td>None</td>\n",
              "      <td>None</td>\n",
              "      <td>None</td>\n",
              "      <td>None</td>\n",
              "    </tr>\n",
              "    <tr>\n",
              "      <th>2353</th>\n",
              "      <td>2353</td>\n",
              "      <td>666033412701032449</td>\n",
              "      <td>NaN</td>\n",
              "      <td>NaN</td>\n",
              "      <td>2015-11-15 23:21:54 +0000</td>\n",
              "      <td>&lt;a href=\"http://twitter.com/download/iphone\" r...</td>\n",
              "      <td>Here is a very happy pup. Big fan of well-main...</td>\n",
              "      <td>NaN</td>\n",
              "      <td>NaN</td>\n",
              "      <td>NaN</td>\n",
              "      <td>https://twitter.com/dog_rates/status/666033412...</td>\n",
              "      <td>9</td>\n",
              "      <td>10</td>\n",
              "      <td>a</td>\n",
              "      <td>None</td>\n",
              "      <td>None</td>\n",
              "      <td>None</td>\n",
              "      <td>None</td>\n",
              "    </tr>\n",
              "    <tr>\n",
              "      <th>2354</th>\n",
              "      <td>2354</td>\n",
              "      <td>666029285002620928</td>\n",
              "      <td>NaN</td>\n",
              "      <td>NaN</td>\n",
              "      <td>2015-11-15 23:05:30 +0000</td>\n",
              "      <td>&lt;a href=\"http://twitter.com/download/iphone\" r...</td>\n",
              "      <td>This is a western brown Mitsubishi terrier. Up...</td>\n",
              "      <td>NaN</td>\n",
              "      <td>NaN</td>\n",
              "      <td>NaN</td>\n",
              "      <td>https://twitter.com/dog_rates/status/666029285...</td>\n",
              "      <td>7</td>\n",
              "      <td>10</td>\n",
              "      <td>a</td>\n",
              "      <td>None</td>\n",
              "      <td>None</td>\n",
              "      <td>None</td>\n",
              "      <td>None</td>\n",
              "    </tr>\n",
              "    <tr>\n",
              "      <th>2355</th>\n",
              "      <td>2355</td>\n",
              "      <td>666020888022790149</td>\n",
              "      <td>NaN</td>\n",
              "      <td>NaN</td>\n",
              "      <td>2015-11-15 22:32:08 +0000</td>\n",
              "      <td>&lt;a href=\"http://twitter.com/download/iphone\" r...</td>\n",
              "      <td>Here we have a Japanese Irish Setter. Lost eye...</td>\n",
              "      <td>NaN</td>\n",
              "      <td>NaN</td>\n",
              "      <td>NaN</td>\n",
              "      <td>https://twitter.com/dog_rates/status/666020888...</td>\n",
              "      <td>8</td>\n",
              "      <td>10</td>\n",
              "      <td>None</td>\n",
              "      <td>None</td>\n",
              "      <td>None</td>\n",
              "      <td>None</td>\n",
              "      <td>None</td>\n",
              "    </tr>\n",
              "  </tbody>\n",
              "</table>\n",
              "<p>2356 rows × 18 columns</p>\n",
              "</div>"
            ],
            "text/plain": [
              "      Unnamed: 0            tweet_id  in_reply_to_status_id  \\\n",
              "0              0  892420643555336193                    NaN   \n",
              "1              1  892177421306343426                    NaN   \n",
              "2              2  891815181378084864                    NaN   \n",
              "3              3  891689557279858688                    NaN   \n",
              "4              4  891327558926688256                    NaN   \n",
              "...          ...                 ...                    ...   \n",
              "2351        2351  666049248165822465                    NaN   \n",
              "2352        2352  666044226329800704                    NaN   \n",
              "2353        2353  666033412701032449                    NaN   \n",
              "2354        2354  666029285002620928                    NaN   \n",
              "2355        2355  666020888022790149                    NaN   \n",
              "\n",
              "      in_reply_to_user_id                  timestamp  \\\n",
              "0                     NaN  2017-08-01 16:23:56 +0000   \n",
              "1                     NaN  2017-08-01 00:17:27 +0000   \n",
              "2                     NaN  2017-07-31 00:18:03 +0000   \n",
              "3                     NaN  2017-07-30 15:58:51 +0000   \n",
              "4                     NaN  2017-07-29 16:00:24 +0000   \n",
              "...                   ...                        ...   \n",
              "2351                  NaN  2015-11-16 00:24:50 +0000   \n",
              "2352                  NaN  2015-11-16 00:04:52 +0000   \n",
              "2353                  NaN  2015-11-15 23:21:54 +0000   \n",
              "2354                  NaN  2015-11-15 23:05:30 +0000   \n",
              "2355                  NaN  2015-11-15 22:32:08 +0000   \n",
              "\n",
              "                                                 source  \\\n",
              "0     <a href=\"http://twitter.com/download/iphone\" r...   \n",
              "1     <a href=\"http://twitter.com/download/iphone\" r...   \n",
              "2     <a href=\"http://twitter.com/download/iphone\" r...   \n",
              "3     <a href=\"http://twitter.com/download/iphone\" r...   \n",
              "4     <a href=\"http://twitter.com/download/iphone\" r...   \n",
              "...                                                 ...   \n",
              "2351  <a href=\"http://twitter.com/download/iphone\" r...   \n",
              "2352  <a href=\"http://twitter.com/download/iphone\" r...   \n",
              "2353  <a href=\"http://twitter.com/download/iphone\" r...   \n",
              "2354  <a href=\"http://twitter.com/download/iphone\" r...   \n",
              "2355  <a href=\"http://twitter.com/download/iphone\" r...   \n",
              "\n",
              "                                                   text  retweeted_status_id  \\\n",
              "0     This is Phineas. He's a mystical boy. Only eve...                  NaN   \n",
              "1     This is Tilly. She's just checking pup on you....                  NaN   \n",
              "2     This is Archie. He is a rare Norwegian Pouncin...                  NaN   \n",
              "3     This is Darla. She commenced a snooze mid meal...                  NaN   \n",
              "4     This is Franklin. He would like you to stop ca...                  NaN   \n",
              "...                                                 ...                  ...   \n",
              "2351  Here we have a 1949 1st generation vulpix. Enj...                  NaN   \n",
              "2352  This is a purebred Piers Morgan. Loves to Netf...                  NaN   \n",
              "2353  Here is a very happy pup. Big fan of well-main...                  NaN   \n",
              "2354  This is a western brown Mitsubishi terrier. Up...                  NaN   \n",
              "2355  Here we have a Japanese Irish Setter. Lost eye...                  NaN   \n",
              "\n",
              "      retweeted_status_user_id retweeted_status_timestamp  \\\n",
              "0                          NaN                        NaN   \n",
              "1                          NaN                        NaN   \n",
              "2                          NaN                        NaN   \n",
              "3                          NaN                        NaN   \n",
              "4                          NaN                        NaN   \n",
              "...                        ...                        ...   \n",
              "2351                       NaN                        NaN   \n",
              "2352                       NaN                        NaN   \n",
              "2353                       NaN                        NaN   \n",
              "2354                       NaN                        NaN   \n",
              "2355                       NaN                        NaN   \n",
              "\n",
              "                                          expanded_urls  rating_numerator  \\\n",
              "0     https://twitter.com/dog_rates/status/892420643...                13   \n",
              "1     https://twitter.com/dog_rates/status/892177421...                13   \n",
              "2     https://twitter.com/dog_rates/status/891815181...                12   \n",
              "3     https://twitter.com/dog_rates/status/891689557...                13   \n",
              "4     https://twitter.com/dog_rates/status/891327558...                12   \n",
              "...                                                 ...               ...   \n",
              "2351  https://twitter.com/dog_rates/status/666049248...                 5   \n",
              "2352  https://twitter.com/dog_rates/status/666044226...                 6   \n",
              "2353  https://twitter.com/dog_rates/status/666033412...                 9   \n",
              "2354  https://twitter.com/dog_rates/status/666029285...                 7   \n",
              "2355  https://twitter.com/dog_rates/status/666020888...                 8   \n",
              "\n",
              "      rating_denominator      name doggo floofer pupper puppo  \n",
              "0                     10   Phineas  None    None   None  None  \n",
              "1                     10     Tilly  None    None   None  None  \n",
              "2                     10    Archie  None    None   None  None  \n",
              "3                     10     Darla  None    None   None  None  \n",
              "4                     10  Franklin  None    None   None  None  \n",
              "...                  ...       ...   ...     ...    ...   ...  \n",
              "2351                  10      None  None    None   None  None  \n",
              "2352                  10         a  None    None   None  None  \n",
              "2353                  10         a  None    None   None  None  \n",
              "2354                  10         a  None    None   None  None  \n",
              "2355                  10      None  None    None   None  None  \n",
              "\n",
              "[2356 rows x 18 columns]"
            ]
          },
          "execution_count": 65,
          "metadata": {},
          "output_type": "execute_result"
        }
      ],
      "source": [
        "pd.read_csv('cleaned_archive.csv')"
      ]
    },
    {
      "cell_type": "code",
      "execution_count": null,
      "id": "575b0ef7",
      "metadata": {
        "id": "575b0ef7"
      },
      "outputs": [],
      "source": []
    }
  ],
  "metadata": {
    "kernelspec": {
      "display_name": "Python 3 (ipykernel)",
      "language": "python",
      "name": "python3"
    },
    "language_info": {
      "codemirror_mode": {
        "name": "ipython",
        "version": 3
      },
      "file_extension": ".py",
      "mimetype": "text/x-python",
      "name": "python",
      "nbconvert_exporter": "python",
      "pygments_lexer": "ipython3",
      "version": "3.9.12"
    },
    "colab": {
      "provenance": [],
      "include_colab_link": true
    }
  },
  "nbformat": 4,
  "nbformat_minor": 5
}