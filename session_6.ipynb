{
  "cells": [
    {
      "cell_type": "markdown",
      "metadata": {
        "id": "view-in-github",
        "colab_type": "text"
      },
      "source": [
        "<a href=\"https://colab.research.google.com/github/chilezdengr/Connect-Sessions-on-Data-Wrangling-and-Visualisations/blob/main/session_6.ipynb\" target=\"_parent\"><img src=\"https://colab.research.google.com/assets/colab-badge.svg\" alt=\"Open In Colab\"/></a>"
      ]
    },
    {
      "cell_type": "code",
      "execution_count": null,
      "id": "fa955860",
      "metadata": {
        "id": "fa955860"
      },
      "outputs": [],
      "source": [
        "import pandas as pd\n",
        "import numpy as np\n",
        "import requests\n",
        "import json"
      ]
    },
    {
      "cell_type": "markdown",
      "id": "9be8771b",
      "metadata": {
        "id": "9be8771b"
      },
      "source": [
        "#### USING THE FOURSQUARE API"
      ]
    },
    {
      "cell_type": "code",
      "execution_count": null,
      "id": "df10eb34",
      "metadata": {
        "id": "df10eb34"
      },
      "outputs": [],
      "source": [
        "#We created a special credentials.json file to help us access the foursquare api\n",
        "with open('credentials.json', 'r') as f:\n",
        "    credentials = json.load(f)"
      ]
    },
    {
      "cell_type": "code",
      "execution_count": null,
      "id": "bb97f136",
      "metadata": {
        "id": "bb97f136"
      },
      "outputs": [],
      "source": [
        "#We can do this with a txt file but a json file is better\n",
        "with open('credentials.txt', 'r') as f:\n",
        "    my_txt_cred = f.readlines() "
      ]
    },
    {
      "cell_type": "code",
      "execution_count": null,
      "id": "7a0db7aa",
      "metadata": {
        "id": "7a0db7aa"
      },
      "outputs": [],
      "source": [
        "url = \"https://api.foursquare.com/v3/places/search\"\n",
        "\n",
        "headers = {\n",
        "    \"Accept\": \"application/json\",\n",
        "    \"Authorization\": credentials['key']\n",
        "}\n",
        "\n",
        "params = {\"query\":\"food\", \n",
        "                  \"radius\": 90000}"
      ]
    },
    {
      "cell_type": "code",
      "execution_count": null,
      "id": "0ca2ad82",
      "metadata": {
        "id": "0ca2ad82"
      },
      "outputs": [],
      "source": [
        "response = requests.request(\"GET\", url, headers=headers, params=params)"
      ]
    },
    {
      "cell_type": "code",
      "execution_count": null,
      "id": "f77ecb56",
      "metadata": {
        "id": "f77ecb56",
        "outputId": "837a1d1d-00ac-43e6-95fe-ecb0a8eb84e3"
      },
      "outputs": [
        {
          "name": "stdout",
          "output_type": "stream",
          "text": [
            "We are good\n"
          ]
        }
      ],
      "source": [
        "if response.status_code==200:\n",
        "    print('We are good')\n",
        "else:\n",
        "    print('ERROR!')"
      ]
    },
    {
      "cell_type": "code",
      "execution_count": null,
      "id": "ff6b652a",
      "metadata": {
        "id": "ff6b652a",
        "outputId": "99ffa621-cad0-4ce6-e3e9-d6fbcf30ba75"
      },
      "outputs": [
        {
          "data": {
            "text/plain": [
              "True"
            ]
          },
          "execution_count": 81,
          "metadata": {},
          "output_type": "execute_result"
        }
      ],
      "source": [
        "response.ok"
      ]
    },
    {
      "cell_type": "code",
      "execution_count": null,
      "id": "b235ac42",
      "metadata": {
        "id": "b235ac42"
      },
      "outputs": [],
      "source": [
        "data = response.json()"
      ]
    },
    {
      "cell_type": "code",
      "execution_count": null,
      "id": "48e2f075",
      "metadata": {
        "id": "48e2f075"
      },
      "outputs": [],
      "source": [
        "results = data['results']"
      ]
    },
    {
      "cell_type": "code",
      "execution_count": null,
      "id": "6ce9ed57",
      "metadata": {
        "id": "6ce9ed57",
        "outputId": "b94b528e-0fe2-4a33-bfa5-008f38ccbd5a"
      },
      "outputs": [
        {
          "data": {
            "text/plain": [
              "10"
            ]
          },
          "execution_count": 84,
          "metadata": {},
          "output_type": "execute_result"
        }
      ],
      "source": [
        "len(results)"
      ]
    },
    {
      "cell_type": "code",
      "execution_count": null,
      "id": "e13ef154",
      "metadata": {
        "id": "e13ef154",
        "outputId": "ca6e5989-9011-489b-acdb-8c871a571313"
      },
      "outputs": [
        {
          "data": {
            "text/plain": [
              "{'fsq_id': '4d1aeef011fca0931a409ace',\n",
              " 'categories': [{'id': 13064,\n",
              "   'name': 'Pizzeria',\n",
              "   'icon': {'prefix': 'https://ss3.4sqi.net/img/categories_v2/food/pizza_',\n",
              "    'suffix': '.png'}}],\n",
              " 'chains': [],\n",
              " 'distance': 47422,\n",
              " 'geocodes': {'main': {'latitude': 12.007809, 'longitude': 8.552716}},\n",
              " 'link': '/v3/places/4d1aeef011fca0931a409ace',\n",
              " 'location': {'address': 'Hadejia road',\n",
              "  'country': 'NG',\n",
              "  'cross_street': '',\n",
              "  'formatted_address': 'Hadejia road, Kano, Kano State',\n",
              "  'locality': 'Kano',\n",
              "  'region': 'Kano State'},\n",
              " 'name': 'Pizza Shack',\n",
              " 'related_places': {},\n",
              " 'timezone': 'Africa/Lagos'}"
            ]
          },
          "execution_count": 85,
          "metadata": {},
          "output_type": "execute_result"
        }
      ],
      "source": [
        "results[0]"
      ]
    },
    {
      "cell_type": "code",
      "execution_count": null,
      "id": "efb5f06f",
      "metadata": {
        "id": "efb5f06f"
      },
      "outputs": [],
      "source": [
        "df = pd.DataFrame(data['results'])"
      ]
    },
    {
      "cell_type": "code",
      "execution_count": null,
      "id": "6c564f9d",
      "metadata": {
        "id": "6c564f9d",
        "outputId": "5f423cac-99e3-4ef4-cc3b-cdf807a27687"
      },
      "outputs": [
        {
          "data": {
            "text/html": [
              "<div>\n",
              "<style scoped>\n",
              "    .dataframe tbody tr th:only-of-type {\n",
              "        vertical-align: middle;\n",
              "    }\n",
              "\n",
              "    .dataframe tbody tr th {\n",
              "        vertical-align: top;\n",
              "    }\n",
              "\n",
              "    .dataframe thead th {\n",
              "        text-align: right;\n",
              "    }\n",
              "</style>\n",
              "<table border=\"1\" class=\"dataframe\">\n",
              "  <thead>\n",
              "    <tr style=\"text-align: right;\">\n",
              "      <th></th>\n",
              "      <th>fsq_id</th>\n",
              "      <th>categories</th>\n",
              "      <th>chains</th>\n",
              "      <th>distance</th>\n",
              "      <th>geocodes</th>\n",
              "      <th>link</th>\n",
              "      <th>location</th>\n",
              "      <th>name</th>\n",
              "      <th>related_places</th>\n",
              "      <th>timezone</th>\n",
              "      <th>address</th>\n",
              "    </tr>\n",
              "  </thead>\n",
              "  <tbody>\n",
              "    <tr>\n",
              "      <th>0</th>\n",
              "      <td>4d1aeef011fca0931a409ace</td>\n",
              "      <td>[{'id': 13064, 'name': 'Pizzeria', 'icon': {'p...</td>\n",
              "      <td>[]</td>\n",
              "      <td>47422</td>\n",
              "      <td>{'main': {'latitude': 12.007809, 'longitude': ...</td>\n",
              "      <td>/v3/places/4d1aeef011fca0931a409ace</td>\n",
              "      <td>{'address': 'Hadejia road', 'country': 'NG', '...</td>\n",
              "      <td>Pizza Shack</td>\n",
              "      <td>{}</td>\n",
              "      <td>Africa/Lagos</td>\n",
              "      <td>Hadejia road</td>\n",
              "    </tr>\n",
              "    <tr>\n",
              "      <th>1</th>\n",
              "      <td>51a61397498e613773d487d1</td>\n",
              "      <td>[{'id': 13055, 'name': 'Fried Chicken Joint', ...</td>\n",
              "      <td>[]</td>\n",
              "      <td>47624</td>\n",
              "      <td>{'main': {'latitude': 12.006638, 'longitude': ...</td>\n",
              "      <td>/v3/places/51a61397498e613773d487d1</td>\n",
              "      <td>{'address': 'MM way', 'country': 'NG', 'cross_...</td>\n",
              "      <td>Kano Fried Chicken (KFC)</td>\n",
              "      <td>{}</td>\n",
              "      <td>Africa/Lagos</td>\n",
              "      <td>MM way</td>\n",
              "    </tr>\n",
              "  </tbody>\n",
              "</table>\n",
              "</div>"
            ],
            "text/plain": [
              "                     fsq_id  \\\n",
              "0  4d1aeef011fca0931a409ace   \n",
              "1  51a61397498e613773d487d1   \n",
              "\n",
              "                                          categories chains  distance  \\\n",
              "0  [{'id': 13064, 'name': 'Pizzeria', 'icon': {'p...     []     47422   \n",
              "1  [{'id': 13055, 'name': 'Fried Chicken Joint', ...     []     47624   \n",
              "\n",
              "                                            geocodes  \\\n",
              "0  {'main': {'latitude': 12.007809, 'longitude': ...   \n",
              "1  {'main': {'latitude': 12.006638, 'longitude': ...   \n",
              "\n",
              "                                  link  \\\n",
              "0  /v3/places/4d1aeef011fca0931a409ace   \n",
              "1  /v3/places/51a61397498e613773d487d1   \n",
              "\n",
              "                                            location  \\\n",
              "0  {'address': 'Hadejia road', 'country': 'NG', '...   \n",
              "1  {'address': 'MM way', 'country': 'NG', 'cross_...   \n",
              "\n",
              "                       name related_places      timezone       address  \n",
              "0               Pizza Shack             {}  Africa/Lagos  Hadejia road  \n",
              "1  Kano Fried Chicken (KFC)             {}  Africa/Lagos        MM way  "
            ]
          },
          "execution_count": 87,
          "metadata": {},
          "output_type": "execute_result"
        }
      ],
      "source": [
        "df['address'] = df['location'].apply(lambda x: x.get('address'))\n",
        "df.head(2)"
      ]
    },
    {
      "cell_type": "code",
      "execution_count": null,
      "id": "5d866a76",
      "metadata": {
        "id": "5d866a76",
        "outputId": "95ca28ef-1710-4f7a-a040-8e94c7b00387"
      },
      "outputs": [
        {
          "data": {
            "text/plain": [
              "{'address': 'Hadejia road',\n",
              " 'country': 'NG',\n",
              " 'cross_street': '',\n",
              " 'formatted_address': 'Hadejia road, Kano, Kano State',\n",
              " 'locality': 'Kano',\n",
              " 'region': 'Kano State'}"
            ]
          },
          "execution_count": 88,
          "metadata": {},
          "output_type": "execute_result"
        }
      ],
      "source": [
        "df['location'][0]"
      ]
    },
    {
      "cell_type": "markdown",
      "id": "30e05858",
      "metadata": {
        "id": "30e05858"
      },
      "source": [
        "### HOW TO DO JSON\n",
        "\n",
        "We talk about JSON and how to use it. JSON stands for JavaScript Object Notation. JSON is a lightweight format for storing and transporting data. JSON files work like python dictionaries. With some easily notable exceptions:\n",
        "\n",
        "- null inplace of None\n",
        "- true/false inplace of True/False"
      ]
    },
    {
      "cell_type": "code",
      "execution_count": null,
      "id": "cc70a229",
      "metadata": {
        "id": "cc70a229"
      },
      "outputs": [],
      "source": [
        "import json"
      ]
    },
    {
      "cell_type": "markdown",
      "id": "a9384644",
      "metadata": {
        "id": "a9384644"
      },
      "source": [
        "We use the data we imported from foursquare api data dataframe and we see that we have a dictionary"
      ]
    },
    {
      "cell_type": "markdown",
      "id": "52009fda",
      "metadata": {
        "id": "52009fda"
      },
      "source": [
        "Below we can see the difference between these json functions\n",
        "- load -> Loading in a json file\n",
        "- loads->Have a string that is formatted as json and you want to turn that into a json object/dictionary\n",
        "- dump->Write a json object to a json file\n",
        "- dumps->Have a json object that you want to make into a string"
      ]
    },
    {
      "cell_type": "code",
      "execution_count": null,
      "id": "13a5ecb5",
      "metadata": {
        "id": "13a5ecb5",
        "outputId": "90e4e2db-a7c7-4203-e834-242c6f6f8929"
      },
      "outputs": [
        {
          "data": {
            "text/plain": [
              "dict"
            ]
          },
          "execution_count": 90,
          "metadata": {},
          "output_type": "execute_result"
        }
      ],
      "source": [
        "type(df['location'][0])"
      ]
    },
    {
      "cell_type": "code",
      "execution_count": null,
      "id": "13719098",
      "metadata": {
        "id": "13719098",
        "outputId": "bbbe2242-b9d0-40ab-ce4d-8052cc466f7c"
      },
      "outputs": [
        {
          "data": {
            "text/plain": [
              "'{\"address\": \"Hadejia road\", \"country\": \"NG\", \"cross_street\": \"\", \"formatted_address\": \"Hadejia road, Kano, Kano State\", \"locality\": \"Kano\", \"region\": \"Kano State\"}'"
            ]
          },
          "execution_count": 92,
          "metadata": {},
          "output_type": "execute_result"
        }
      ],
      "source": [
        "#json.dumps converts dictionary to a json object (string) with json.dumps()\n",
        "json.dumps(df['location'][0])"
      ]
    },
    {
      "cell_type": "markdown",
      "id": "a72409bb",
      "metadata": {
        "id": "a72409bb"
      },
      "source": [
        "Below: \n",
        "- We convert the df['location'][0] dictionary to a json object (string) with json.dumps() \n",
        "- We convert this back to a dictionary with json.loads()"
      ]
    },
    {
      "cell_type": "code",
      "execution_count": null,
      "id": "4a5e7ee7",
      "metadata": {
        "id": "4a5e7ee7",
        "outputId": "f1bbc033-f203-44d6-8a3b-8ff9ae5d49c9"
      },
      "outputs": [
        {
          "data": {
            "text/plain": [
              "dict"
            ]
          },
          "execution_count": 91,
          "metadata": {},
          "output_type": "execute_result"
        }
      ],
      "source": [
        "type(json.loads(json.dumps(df['location'][0])))"
      ]
    },
    {
      "cell_type": "code",
      "source": [
        "#export as a json file\n",
        "with open('testfile.json', 'w') as f:\n",
        "    json.dump(df['location'][0], f)"
      ],
      "metadata": {
        "id": "pUBGobJDzoYU"
      },
      "id": "pUBGobJDzoYU",
      "execution_count": null,
      "outputs": []
    },
    {
      "cell_type": "markdown",
      "id": "a91b9bc1",
      "metadata": {
        "id": "a91b9bc1"
      },
      "source": [
        "We have exported the file as a json file and we can reimport that file"
      ]
    },
    {
      "cell_type": "code",
      "execution_count": null,
      "id": "838a8fef",
      "metadata": {
        "id": "838a8fef"
      },
      "outputs": [],
      "source": [
        "#import as a dictionary file\n",
        "with open('testfile.json', 'r') as f:\n",
        "    imported_file = json.load(f)\n",
        "imported_file"
      ]
    },
    {
      "cell_type": "code",
      "execution_count": null,
      "id": "b0e56399",
      "metadata": {
        "id": "b0e56399",
        "outputId": "44c86690-d7d1-4b0b-a604-44b71670b285"
      },
      "outputs": [
        {
          "data": {
            "text/plain": [
              "{'id': 23, 'status': 'tweet a'}"
            ]
          },
          "execution_count": 95,
          "metadata": {},
          "output_type": "execute_result"
        }
      ],
      "source": [
        "{\n",
        "    \"id\": 23,\n",
        "    \"status\": \"tweet a\"\n",
        "}"
      ]
    },
    {
      "cell_type": "code",
      "execution_count": null,
      "id": "4a00dd61",
      "metadata": {
        "id": "4a00dd61"
      },
      "outputs": [],
      "source": [
        "#importing out txt file\n",
        "list_info = []\n",
        "with open('tweet-json.txt') as f:\n",
        "    for line in f:\n",
        "        list_info.append(json.loads(line))"
      ]
    },
    {
      "cell_type": "code",
      "execution_count": null,
      "id": "355ff928",
      "metadata": {
        "id": "355ff928",
        "outputId": "70659fbd-6d87-4711-cb0f-ac599aff9ec2"
      },
      "outputs": [
        {
          "data": {
            "text/plain": [
              "2354"
            ]
          },
          "execution_count": 149,
          "metadata": {},
          "output_type": "execute_result"
        }
      ],
      "source": [
        "len(list_info)"
      ]
    },
    {
      "cell_type": "code",
      "execution_count": null,
      "id": "b1f6700d",
      "metadata": {
        "id": "b1f6700d",
        "outputId": "f5172694-43a2-4880-83cb-f1bcd4ff3c76"
      },
      "outputs": [
        {
          "data": {
            "text/plain": [
              "(list, dict)"
            ]
          },
          "execution_count": 150,
          "metadata": {},
          "output_type": "execute_result"
        }
      ],
      "source": [
        "type(list_info), type(list_info[0])"
      ]
    },
    {
      "cell_type": "markdown",
      "id": "d4477472",
      "metadata": {
        "id": "d4477472"
      },
      "source": [
        "#### Data Type\n",
        "When working with your data here are things you can ask yourself. You can check with the type() function\n",
        "   1. What data type do we have? for the txt file: JSON-> key: value pair of each item  for many observations(a tweet)\n",
        "   2. What data type do we want the end result?: Parsing or wrangling the data\n",
        "            a. Pandas Dataframe\n",
        "            b. List of Dictionaries\n",
        "            \n",
        "  "
      ]
    },
    {
      "cell_type": "code",
      "execution_count": null,
      "id": "77b15bb0",
      "metadata": {
        "id": "77b15bb0"
      },
      "outputs": [],
      "source": [
        "#alternately we can do \n",
        "data = []\n",
        "with open('tweet-json.txt') as f:\n",
        "    for line in f: \n",
        "        data.append(json.loads(line))"
      ]
    },
    {
      "cell_type": "code",
      "execution_count": null,
      "id": "2b8d4b95",
      "metadata": {
        "id": "2b8d4b95"
      },
      "outputs": [],
      "source": [
        "data = []\n",
        "with open('tweet-json.txt') as f:\n",
        "    tweet_info = f.readlines()\n",
        "    for info in tweet_info:\n",
        "        data.append(json.loads(info))"
      ]
    },
    {
      "cell_type": "code",
      "execution_count": null,
      "id": "14acfb9d",
      "metadata": {
        "id": "14acfb9d",
        "outputId": "c79c1320-90e3-4ed3-f284-cc7709975e8c"
      },
      "outputs": [
        {
          "data": {
            "text/html": [
              "<div>\n",
              "<style scoped>\n",
              "    .dataframe tbody tr th:only-of-type {\n",
              "        vertical-align: middle;\n",
              "    }\n",
              "\n",
              "    .dataframe tbody tr th {\n",
              "        vertical-align: top;\n",
              "    }\n",
              "\n",
              "    .dataframe thead th {\n",
              "        text-align: right;\n",
              "    }\n",
              "</style>\n",
              "<table border=\"1\" class=\"dataframe\">\n",
              "  <thead>\n",
              "    <tr style=\"text-align: right;\">\n",
              "      <th></th>\n",
              "      <th>created_at</th>\n",
              "      <th>id</th>\n",
              "      <th>id_str</th>\n",
              "      <th>full_text</th>\n",
              "      <th>truncated</th>\n",
              "      <th>display_text_range</th>\n",
              "      <th>entities</th>\n",
              "      <th>extended_entities</th>\n",
              "      <th>source</th>\n",
              "      <th>in_reply_to_status_id</th>\n",
              "      <th>...</th>\n",
              "      <th>favorite_count</th>\n",
              "      <th>favorited</th>\n",
              "      <th>retweeted</th>\n",
              "      <th>possibly_sensitive</th>\n",
              "      <th>possibly_sensitive_appealable</th>\n",
              "      <th>lang</th>\n",
              "      <th>retweeted_status</th>\n",
              "      <th>quoted_status_id</th>\n",
              "      <th>quoted_status_id_str</th>\n",
              "      <th>quoted_status</th>\n",
              "    </tr>\n",
              "  </thead>\n",
              "  <tbody>\n",
              "    <tr>\n",
              "      <th>0</th>\n",
              "      <td>Tue Aug 01 16:23:56 +0000 2017</td>\n",
              "      <td>892420643555336193</td>\n",
              "      <td>892420643555336193</td>\n",
              "      <td>This is Phineas. He's a mystical boy. Only eve...</td>\n",
              "      <td>False</td>\n",
              "      <td>[0, 85]</td>\n",
              "      <td>{'hashtags': [], 'symbols': [], 'user_mentions...</td>\n",
              "      <td>{'media': [{'id': 892420639486877696, 'id_str'...</td>\n",
              "      <td>&lt;a href=\"http://twitter.com/download/iphone\" r...</td>\n",
              "      <td>NaN</td>\n",
              "      <td>...</td>\n",
              "      <td>39467</td>\n",
              "      <td>False</td>\n",
              "      <td>False</td>\n",
              "      <td>False</td>\n",
              "      <td>False</td>\n",
              "      <td>en</td>\n",
              "      <td>NaN</td>\n",
              "      <td>NaN</td>\n",
              "      <td>NaN</td>\n",
              "      <td>NaN</td>\n",
              "    </tr>\n",
              "    <tr>\n",
              "      <th>1</th>\n",
              "      <td>Tue Aug 01 00:17:27 +0000 2017</td>\n",
              "      <td>892177421306343426</td>\n",
              "      <td>892177421306343426</td>\n",
              "      <td>This is Tilly. She's just checking pup on you....</td>\n",
              "      <td>False</td>\n",
              "      <td>[0, 138]</td>\n",
              "      <td>{'hashtags': [], 'symbols': [], 'user_mentions...</td>\n",
              "      <td>{'media': [{'id': 892177413194625024, 'id_str'...</td>\n",
              "      <td>&lt;a href=\"http://twitter.com/download/iphone\" r...</td>\n",
              "      <td>NaN</td>\n",
              "      <td>...</td>\n",
              "      <td>33819</td>\n",
              "      <td>False</td>\n",
              "      <td>False</td>\n",
              "      <td>False</td>\n",
              "      <td>False</td>\n",
              "      <td>en</td>\n",
              "      <td>NaN</td>\n",
              "      <td>NaN</td>\n",
              "      <td>NaN</td>\n",
              "      <td>NaN</td>\n",
              "    </tr>\n",
              "  </tbody>\n",
              "</table>\n",
              "<p>2 rows × 31 columns</p>\n",
              "</div>"
            ],
            "text/plain": [
              "                       created_at                  id              id_str  \\\n",
              "0  Tue Aug 01 16:23:56 +0000 2017  892420643555336193  892420643555336193   \n",
              "1  Tue Aug 01 00:17:27 +0000 2017  892177421306343426  892177421306343426   \n",
              "\n",
              "                                           full_text  truncated  \\\n",
              "0  This is Phineas. He's a mystical boy. Only eve...      False   \n",
              "1  This is Tilly. She's just checking pup on you....      False   \n",
              "\n",
              "  display_text_range                                           entities  \\\n",
              "0            [0, 85]  {'hashtags': [], 'symbols': [], 'user_mentions...   \n",
              "1           [0, 138]  {'hashtags': [], 'symbols': [], 'user_mentions...   \n",
              "\n",
              "                                   extended_entities  \\\n",
              "0  {'media': [{'id': 892420639486877696, 'id_str'...   \n",
              "1  {'media': [{'id': 892177413194625024, 'id_str'...   \n",
              "\n",
              "                                              source  in_reply_to_status_id  \\\n",
              "0  <a href=\"http://twitter.com/download/iphone\" r...                    NaN   \n",
              "1  <a href=\"http://twitter.com/download/iphone\" r...                    NaN   \n",
              "\n",
              "   ... favorite_count  favorited retweeted possibly_sensitive  \\\n",
              "0  ...          39467      False     False              False   \n",
              "1  ...          33819      False     False              False   \n",
              "\n",
              "  possibly_sensitive_appealable lang retweeted_status quoted_status_id  \\\n",
              "0                         False   en              NaN              NaN   \n",
              "1                         False   en              NaN              NaN   \n",
              "\n",
              "  quoted_status_id_str  quoted_status  \n",
              "0                  NaN            NaN  \n",
              "1                  NaN            NaN  \n",
              "\n",
              "[2 rows x 31 columns]"
            ]
          },
          "execution_count": 156,
          "metadata": {},
          "output_type": "execute_result"
        }
      ],
      "source": [
        "df = pd.DataFrame(data)\n",
        "df.head(2)"
      ]
    },
    {
      "cell_type": "code",
      "execution_count": null,
      "id": "d8133e4e",
      "metadata": {
        "id": "d8133e4e",
        "outputId": "b28690a0-9c86-47f0-b35a-6faf3c4df920"
      },
      "outputs": [
        {
          "data": {
            "text/plain": [
              "{'hashtags': [],\n",
              " 'symbols': [],\n",
              " 'user_mentions': [],\n",
              " 'urls': [],\n",
              " 'media': [{'id': 892420639486877696,\n",
              "   'id_str': '892420639486877696',\n",
              "   'indices': [86, 109],\n",
              "   'media_url': 'http://pbs.twimg.com/media/DGKD1-bXoAAIAUK.jpg',\n",
              "   'media_url_https': 'https://pbs.twimg.com/media/DGKD1-bXoAAIAUK.jpg',\n",
              "   'url': 'https://t.co/MgUWQ76dJU',\n",
              "   'display_url': 'pic.twitter.com/MgUWQ76dJU',\n",
              "   'expanded_url': 'https://twitter.com/dog_rates/status/892420643555336193/photo/1',\n",
              "   'type': 'photo',\n",
              "   'sizes': {'large': {'w': 540, 'h': 528, 'resize': 'fit'},\n",
              "    'thumb': {'w': 150, 'h': 150, 'resize': 'crop'},\n",
              "    'small': {'w': 540, 'h': 528, 'resize': 'fit'},\n",
              "    'medium': {'w': 540, 'h': 528, 'resize': 'fit'}}}]}"
            ]
          },
          "execution_count": 162,
          "metadata": {},
          "output_type": "execute_result"
        }
      ],
      "source": [
        "#we look at the entity dictionary on the first row\n",
        "first_obj = df['entities'].iloc[0]\n",
        "first_obj"
      ]
    },
    {
      "cell_type": "code",
      "execution_count": null,
      "id": "c5941854",
      "metadata": {
        "id": "c5941854",
        "outputId": "5e8711fb-91fa-486e-d642-6c8d519e2ba8"
      },
      "outputs": [
        {
          "data": {
            "text/plain": [
              "dict_keys(['hashtags', 'symbols', 'user_mentions', 'urls', 'media'])"
            ]
          },
          "execution_count": 164,
          "metadata": {},
          "output_type": "execute_result"
        }
      ],
      "source": [
        "first_obj.keys()"
      ]
    },
    {
      "cell_type": "code",
      "execution_count": null,
      "id": "f8f85419",
      "metadata": {
        "id": "f8f85419",
        "outputId": "91359962-5709-404c-bf75-a39b28dc0cda"
      },
      "outputs": [
        {
          "data": {
            "text/plain": [
              "'pic.twitter.com/MgUWQ76dJU'"
            ]
          },
          "execution_count": 172,
          "metadata": {},
          "output_type": "execute_result"
        }
      ],
      "source": [
        "#We try to extract the first object\n",
        "first_obj['media'][0]['display_url']"
      ]
    },
    {
      "cell_type": "markdown",
      "id": "15276f9b",
      "metadata": {
        "id": "15276f9b"
      },
      "source": [
        "**A little dictionary usage hint:**\n",
        "Using .get() with a dictionary returns the value of the key or returns None if the key does not exist"
      ]
    },
    {
      "cell_type": "code",
      "execution_count": null,
      "id": "fa024c0d",
      "metadata": {
        "id": "fa024c0d",
        "outputId": "936c7a5b-1a19-422e-e200-e84fdaee9b11"
      },
      "outputs": [
        {
          "name": "stdout",
          "output_type": "stream",
          "text": [
            "[]\n"
          ]
        }
      ],
      "source": [
        "our_obj = {'first':'a'}\n",
        "my_ans = our_obj.get('second',[])\n",
        "if my_ans is not None:\n",
        "    print(my_ans)"
      ]
    },
    {
      "cell_type": "code",
      "execution_count": null,
      "id": "1de0c515",
      "metadata": {
        "id": "1de0c515",
        "outputId": "ea40270e-c06d-4add-a0ae-e2851a059f81"
      },
      "outputs": [
        {
          "ename": "KeyError",
          "evalue": "'second'",
          "output_type": "error",
          "traceback": [
            "\u001b[1;31m---------------------------------------------------------------------------\u001b[0m",
            "\u001b[1;31mKeyError\u001b[0m                                  Traceback (most recent call last)",
            "Input \u001b[1;32mIn [187]\u001b[0m, in \u001b[0;36m<cell line: 1>\u001b[1;34m()\u001b[0m\n\u001b[1;32m----> 1\u001b[0m \u001b[43mour_obj\u001b[49m\u001b[43m[\u001b[49m\u001b[38;5;124;43m'\u001b[39;49m\u001b[38;5;124;43msecond\u001b[39;49m\u001b[38;5;124;43m'\u001b[39;49m\u001b[43m]\u001b[49m\n",
            "\u001b[1;31mKeyError\u001b[0m: 'second'"
          ]
        }
      ],
      "source": [
        "#this will throw an error because there is no second object\n",
        "our_obj['second']"
      ]
    },
    {
      "cell_type": "code",
      "execution_count": null,
      "id": "3ec9ceec",
      "metadata": {
        "id": "3ec9ceec"
      },
      "outputs": [],
      "source": [
        "Instead of tranforming the data about with .get() and a lambda function, we can use a custom function with apply() and get() to get the information we need as below:"
      ]
    },
    {
      "cell_type": "code",
      "execution_count": null,
      "id": "7000b2ab",
      "metadata": {
        "id": "7000b2ab"
      },
      "outputs": [],
      "source": [
        "def mygetentities(x):\n",
        "    media_dict = x.get('media')\n",
        "    if media_dict is None:\n",
        "        return None\n",
        "    display_info = media_dict[0] \n",
        "    return display_info.get('display_url')"
      ]
    },
    {
      "cell_type": "code",
      "execution_count": null,
      "id": "ffcc320d",
      "metadata": {
        "id": "ffcc320d",
        "outputId": "3148a115-765f-4d5f-9fca-e5bb2edee97f"
      },
      "outputs": [
        {
          "data": {
            "text/html": [
              "<div>\n",
              "<style scoped>\n",
              "    .dataframe tbody tr th:only-of-type {\n",
              "        vertical-align: middle;\n",
              "    }\n",
              "\n",
              "    .dataframe tbody tr th {\n",
              "        vertical-align: top;\n",
              "    }\n",
              "\n",
              "    .dataframe thead th {\n",
              "        text-align: right;\n",
              "    }\n",
              "</style>\n",
              "<table border=\"1\" class=\"dataframe\">\n",
              "  <thead>\n",
              "    <tr style=\"text-align: right;\">\n",
              "      <th></th>\n",
              "      <th>created_at</th>\n",
              "      <th>id</th>\n",
              "      <th>id_str</th>\n",
              "      <th>full_text</th>\n",
              "      <th>truncated</th>\n",
              "      <th>display_text_range</th>\n",
              "      <th>entities</th>\n",
              "      <th>extended_entities</th>\n",
              "      <th>source</th>\n",
              "      <th>in_reply_to_status_id</th>\n",
              "      <th>...</th>\n",
              "      <th>favorited</th>\n",
              "      <th>retweeted</th>\n",
              "      <th>possibly_sensitive</th>\n",
              "      <th>possibly_sensitive_appealable</th>\n",
              "      <th>lang</th>\n",
              "      <th>retweeted_status</th>\n",
              "      <th>quoted_status_id</th>\n",
              "      <th>quoted_status_id_str</th>\n",
              "      <th>quoted_status</th>\n",
              "      <th>display_urls</th>\n",
              "    </tr>\n",
              "  </thead>\n",
              "  <tbody>\n",
              "    <tr>\n",
              "      <th>0</th>\n",
              "      <td>Tue Aug 01 16:23:56 +0000 2017</td>\n",
              "      <td>892420643555336193</td>\n",
              "      <td>892420643555336193</td>\n",
              "      <td>This is Phineas. He's a mystical boy. Only eve...</td>\n",
              "      <td>False</td>\n",
              "      <td>[0, 85]</td>\n",
              "      <td>{'hashtags': [], 'symbols': [], 'user_mentions...</td>\n",
              "      <td>{'media': [{'id': 892420639486877696, 'id_str'...</td>\n",
              "      <td>&lt;a href=\"http://twitter.com/download/iphone\" r...</td>\n",
              "      <td>NaN</td>\n",
              "      <td>...</td>\n",
              "      <td>False</td>\n",
              "      <td>False</td>\n",
              "      <td>False</td>\n",
              "      <td>False</td>\n",
              "      <td>en</td>\n",
              "      <td>NaN</td>\n",
              "      <td>NaN</td>\n",
              "      <td>NaN</td>\n",
              "      <td>NaN</td>\n",
              "      <td>pic.twitter.com/MgUWQ76dJU</td>\n",
              "    </tr>\n",
              "    <tr>\n",
              "      <th>1</th>\n",
              "      <td>Tue Aug 01 00:17:27 +0000 2017</td>\n",
              "      <td>892177421306343426</td>\n",
              "      <td>892177421306343426</td>\n",
              "      <td>This is Tilly. She's just checking pup on you....</td>\n",
              "      <td>False</td>\n",
              "      <td>[0, 138]</td>\n",
              "      <td>{'hashtags': [], 'symbols': [], 'user_mentions...</td>\n",
              "      <td>{'media': [{'id': 892177413194625024, 'id_str'...</td>\n",
              "      <td>&lt;a href=\"http://twitter.com/download/iphone\" r...</td>\n",
              "      <td>NaN</td>\n",
              "      <td>...</td>\n",
              "      <td>False</td>\n",
              "      <td>False</td>\n",
              "      <td>False</td>\n",
              "      <td>False</td>\n",
              "      <td>en</td>\n",
              "      <td>NaN</td>\n",
              "      <td>NaN</td>\n",
              "      <td>NaN</td>\n",
              "      <td>NaN</td>\n",
              "      <td>pic.twitter.com/0Xxu71qeIV</td>\n",
              "    </tr>\n",
              "    <tr>\n",
              "      <th>2</th>\n",
              "      <td>Mon Jul 31 00:18:03 +0000 2017</td>\n",
              "      <td>891815181378084864</td>\n",
              "      <td>891815181378084864</td>\n",
              "      <td>This is Archie. He is a rare Norwegian Pouncin...</td>\n",
              "      <td>False</td>\n",
              "      <td>[0, 121]</td>\n",
              "      <td>{'hashtags': [], 'symbols': [], 'user_mentions...</td>\n",
              "      <td>{'media': [{'id': 891815175371796480, 'id_str'...</td>\n",
              "      <td>&lt;a href=\"http://twitter.com/download/iphone\" r...</td>\n",
              "      <td>NaN</td>\n",
              "      <td>...</td>\n",
              "      <td>False</td>\n",
              "      <td>False</td>\n",
              "      <td>False</td>\n",
              "      <td>False</td>\n",
              "      <td>en</td>\n",
              "      <td>NaN</td>\n",
              "      <td>NaN</td>\n",
              "      <td>NaN</td>\n",
              "      <td>NaN</td>\n",
              "      <td>pic.twitter.com/wUnZnhtVJB</td>\n",
              "    </tr>\n",
              "    <tr>\n",
              "      <th>3</th>\n",
              "      <td>Sun Jul 30 15:58:51 +0000 2017</td>\n",
              "      <td>891689557279858688</td>\n",
              "      <td>891689557279858688</td>\n",
              "      <td>This is Darla. She commenced a snooze mid meal...</td>\n",
              "      <td>False</td>\n",
              "      <td>[0, 79]</td>\n",
              "      <td>{'hashtags': [], 'symbols': [], 'user_mentions...</td>\n",
              "      <td>{'media': [{'id': 891689552724799489, 'id_str'...</td>\n",
              "      <td>&lt;a href=\"http://twitter.com/download/iphone\" r...</td>\n",
              "      <td>NaN</td>\n",
              "      <td>...</td>\n",
              "      <td>False</td>\n",
              "      <td>False</td>\n",
              "      <td>False</td>\n",
              "      <td>False</td>\n",
              "      <td>en</td>\n",
              "      <td>NaN</td>\n",
              "      <td>NaN</td>\n",
              "      <td>NaN</td>\n",
              "      <td>NaN</td>\n",
              "      <td>pic.twitter.com/tD36da7qLQ</td>\n",
              "    </tr>\n",
              "    <tr>\n",
              "      <th>4</th>\n",
              "      <td>Sat Jul 29 16:00:24 +0000 2017</td>\n",
              "      <td>891327558926688256</td>\n",
              "      <td>891327558926688256</td>\n",
              "      <td>This is Franklin. He would like you to stop ca...</td>\n",
              "      <td>False</td>\n",
              "      <td>[0, 138]</td>\n",
              "      <td>{'hashtags': [{'text': 'BarkWeek', 'indices': ...</td>\n",
              "      <td>{'media': [{'id': 891327551943041024, 'id_str'...</td>\n",
              "      <td>&lt;a href=\"http://twitter.com/download/iphone\" r...</td>\n",
              "      <td>NaN</td>\n",
              "      <td>...</td>\n",
              "      <td>False</td>\n",
              "      <td>False</td>\n",
              "      <td>False</td>\n",
              "      <td>False</td>\n",
              "      <td>en</td>\n",
              "      <td>NaN</td>\n",
              "      <td>NaN</td>\n",
              "      <td>NaN</td>\n",
              "      <td>NaN</td>\n",
              "      <td>pic.twitter.com/AtUZn91f7f</td>\n",
              "    </tr>\n",
              "  </tbody>\n",
              "</table>\n",
              "<p>5 rows × 32 columns</p>\n",
              "</div>"
            ],
            "text/plain": [
              "                       created_at                  id              id_str  \\\n",
              "0  Tue Aug 01 16:23:56 +0000 2017  892420643555336193  892420643555336193   \n",
              "1  Tue Aug 01 00:17:27 +0000 2017  892177421306343426  892177421306343426   \n",
              "2  Mon Jul 31 00:18:03 +0000 2017  891815181378084864  891815181378084864   \n",
              "3  Sun Jul 30 15:58:51 +0000 2017  891689557279858688  891689557279858688   \n",
              "4  Sat Jul 29 16:00:24 +0000 2017  891327558926688256  891327558926688256   \n",
              "\n",
              "                                           full_text  truncated  \\\n",
              "0  This is Phineas. He's a mystical boy. Only eve...      False   \n",
              "1  This is Tilly. She's just checking pup on you....      False   \n",
              "2  This is Archie. He is a rare Norwegian Pouncin...      False   \n",
              "3  This is Darla. She commenced a snooze mid meal...      False   \n",
              "4  This is Franklin. He would like you to stop ca...      False   \n",
              "\n",
              "  display_text_range                                           entities  \\\n",
              "0            [0, 85]  {'hashtags': [], 'symbols': [], 'user_mentions...   \n",
              "1           [0, 138]  {'hashtags': [], 'symbols': [], 'user_mentions...   \n",
              "2           [0, 121]  {'hashtags': [], 'symbols': [], 'user_mentions...   \n",
              "3            [0, 79]  {'hashtags': [], 'symbols': [], 'user_mentions...   \n",
              "4           [0, 138]  {'hashtags': [{'text': 'BarkWeek', 'indices': ...   \n",
              "\n",
              "                                   extended_entities  \\\n",
              "0  {'media': [{'id': 892420639486877696, 'id_str'...   \n",
              "1  {'media': [{'id': 892177413194625024, 'id_str'...   \n",
              "2  {'media': [{'id': 891815175371796480, 'id_str'...   \n",
              "3  {'media': [{'id': 891689552724799489, 'id_str'...   \n",
              "4  {'media': [{'id': 891327551943041024, 'id_str'...   \n",
              "\n",
              "                                              source  in_reply_to_status_id  \\\n",
              "0  <a href=\"http://twitter.com/download/iphone\" r...                    NaN   \n",
              "1  <a href=\"http://twitter.com/download/iphone\" r...                    NaN   \n",
              "2  <a href=\"http://twitter.com/download/iphone\" r...                    NaN   \n",
              "3  <a href=\"http://twitter.com/download/iphone\" r...                    NaN   \n",
              "4  <a href=\"http://twitter.com/download/iphone\" r...                    NaN   \n",
              "\n",
              "   ... favorited  retweeted possibly_sensitive possibly_sensitive_appealable  \\\n",
              "0  ...     False      False              False                         False   \n",
              "1  ...     False      False              False                         False   \n",
              "2  ...     False      False              False                         False   \n",
              "3  ...     False      False              False                         False   \n",
              "4  ...     False      False              False                         False   \n",
              "\n",
              "  lang retweeted_status quoted_status_id quoted_status_id_str quoted_status  \\\n",
              "0   en              NaN              NaN                  NaN           NaN   \n",
              "1   en              NaN              NaN                  NaN           NaN   \n",
              "2   en              NaN              NaN                  NaN           NaN   \n",
              "3   en              NaN              NaN                  NaN           NaN   \n",
              "4   en              NaN              NaN                  NaN           NaN   \n",
              "\n",
              "                 display_urls  \n",
              "0  pic.twitter.com/MgUWQ76dJU  \n",
              "1  pic.twitter.com/0Xxu71qeIV  \n",
              "2  pic.twitter.com/wUnZnhtVJB  \n",
              "3  pic.twitter.com/tD36da7qLQ  \n",
              "4  pic.twitter.com/AtUZn91f7f  \n",
              "\n",
              "[5 rows x 32 columns]"
            ]
          },
          "execution_count": 201,
          "metadata": {},
          "output_type": "execute_result"
        }
      ],
      "source": [
        "df['display_urls'] = df['entities'].apply(mygetentities) #df['entities'].apply(lambda x: x.get('media',[{}])[0].get('display_url'))\n",
        "df.head()"
      ]
    },
    {
      "cell_type": "markdown",
      "id": "8300dfd2",
      "metadata": {
        "id": "8300dfd2"
      },
      "source": [
        "### REGEX"
      ]
    },
    {
      "cell_type": "markdown",
      "id": "217c289f",
      "metadata": {
        "id": "217c289f"
      },
      "source": [
        "Search the exact word like Hello -> This is called a String Literal\n",
        "-    \\* -> Matches a character which appears 0 or more characters\n",
        "-  \\+ -> Matches a character which appears 1 or more appearances\n",
        "-  {0, 2} -> Matches a character which is occurs 1 or more times\n",
        "-  ? -> Matches a character which appears 0 or 1 time\n",
        "-  . -> Matches any character\n",
        "\n",
        "\n",
        "-  \\d -> Matches any digit\n",
        "-  \\w -> Matches any letter (alphabets .,;)\n",
        "-  () -> Matches any block of characters\n",
        "-  [a-z] or [A-Z] or [0-9] or [a-zA-Z] or [a-z0-9]->Matches a range of characters \n",
        "-  ^ a> ^ Matches any word/sentence that starts with the next character, in this case a\n",
        "-  y$ -> Matches any word/sentence that ends with the previous character, in this case y"
      ]
    },
    {
      "cell_type": "markdown",
      "id": "f23ec4b1",
      "metadata": {
        "id": "f23ec4b1"
      },
      "source": [
        "### USING REGEX"
      ]
    },
    {
      "cell_type": "markdown",
      "id": "5d73b402",
      "metadata": {
        "id": "5d73b402"
      },
      "source": [
        "- toy\n",
        "- tooooy\n",
        "- toooooooy\n",
        "- ty\n",
        "\n",
        "A regex cheatsheat [Regex Cheatsheet](https://cheatography.com/davechild/cheat-sheets/regular-expressions/)"
      ]
    },
    {
      "cell_type": "code",
      "execution_count": null,
      "id": "1c15f8f6",
      "metadata": {
        "id": "1c15f8f6"
      },
      "outputs": [],
      "source": [
        "import re"
      ]
    },
    {
      "cell_type": "code",
      "execution_count": null,
      "id": "d8e323ca",
      "metadata": {
        "id": "d8e323ca"
      },
      "outputs": [],
      "source": [
        "sentence = 'It is raining today. It rained yesterday and will rain tomorrow'\n",
        "ans = re.findall('^(It).*(today)$', sentence) #We find any sentence that starts with It and ends with today"
      ]
    },
    {
      "cell_type": "code",
      "execution_count": null,
      "id": "c6e8f997",
      "metadata": {
        "id": "c6e8f997",
        "outputId": "cd46af70-bab7-4ed1-bc90-cb41b537d540"
      },
      "outputs": [
        {
          "name": "stdout",
          "output_type": "stream",
          "text": [
            "[]\n"
          ]
        }
      ],
      "source": [
        "if ans is None:\n",
        "    print('Not Found')\n",
        "else:\n",
        "    print(ans)"
      ]
    },
    {
      "cell_type": "markdown",
      "id": "484598a9",
      "metadata": {
        "id": "484598a9"
      },
      "source": [
        "String parsing"
      ]
    },
    {
      "cell_type": "code",
      "execution_count": null,
      "id": "60c20867",
      "metadata": {
        "id": "60c20867",
        "outputId": "def57592-5de4-40f8-90e6-42692403f091"
      },
      "outputs": [
        {
          "data": {
            "text/plain": [
              "False"
            ]
          },
          "execution_count": 48,
          "metadata": {},
          "output_type": "execute_result"
        }
      ],
      "source": [
        "#We can use basic string checks to find text in other strings\n",
        "\"Hello World\" in \"HelloWorld\""
      ]
    },
    {
      "cell_type": "code",
      "execution_count": null,
      "id": "22e46e41",
      "metadata": {
        "id": "22e46e41",
        "outputId": "6fde6f42-dbb6-49c1-9731-8dd6e7904a78"
      },
      "outputs": [
        {
          "data": {
            "text/plain": [
              "True"
            ]
          },
          "execution_count": 38,
          "metadata": {},
          "output_type": "execute_result"
        }
      ],
      "source": [
        "#We can also do this for lists\n",
        "5 in [3,4,5,6]"
      ]
    },
    {
      "cell_type": "code",
      "execution_count": null,
      "id": "5018913a",
      "metadata": {
        "id": "5018913a",
        "outputId": "ddcbd621-2d84-43ec-f0db-2de31ca34170"
      },
      "outputs": [
        {
          "data": {
            "text/plain": [
              "False"
            ]
          },
          "execution_count": 40,
          "metadata": {},
          "output_type": "execute_result"
        }
      ],
      "source": [
        "#We can also do this for dictionaries. Here it will check if the string 'c' is in the dictionary keys\n",
        "'c' in {'a':1,'b':2}"
      ]
    },
    {
      "cell_type": "code",
      "execution_count": null,
      "id": "6996d186",
      "metadata": {
        "id": "6996d186",
        "outputId": "ac8fba9f-dfdb-4662-910f-7e81d552a3bd"
      },
      "outputs": [
        {
          "data": {
            "text/plain": [
              "dict_keys(['a', 'b'])"
            ]
          },
          "execution_count": 41,
          "metadata": {},
          "output_type": "execute_result"
        }
      ],
      "source": [
        "{'a':1,'b':2}.keys()"
      ]
    },
    {
      "cell_type": "code",
      "execution_count": null,
      "id": "7eb03559",
      "metadata": {
        "id": "7eb03559",
        "outputId": "34b2b366-0c67-49b9-e21c-ca9c56a31f69"
      },
      "outputs": [
        {
          "data": {
            "text/plain": [
              "dict_values([1, 2])"
            ]
          },
          "execution_count": 43,
          "metadata": {},
          "output_type": "execute_result"
        }
      ],
      "source": [
        "{'a':1,'b':2}.values()"
      ]
    },
    {
      "cell_type": "code",
      "execution_count": null,
      "id": "e1bde6c8",
      "metadata": {
        "id": "e1bde6c8",
        "outputId": "f8c01fc5-c6e3-4e98-d1ae-ee459b3159c5"
      },
      "outputs": [
        {
          "data": {
            "text/plain": [
              "dict_items([('a', 1), ('b', 2)])"
            ]
          },
          "execution_count": 44,
          "metadata": {},
          "output_type": "execute_result"
        }
      ],
      "source": [
        "{'a':1,'b':2}.items()"
      ]
    },
    {
      "cell_type": "markdown",
      "id": "c7daea06",
      "metadata": {
        "id": "c7daea06"
      },
      "source": [
        "Regex use cases:\n",
        "Find text patterns in a file\n",
        "\"HelloWorld\", \"Hello Woooorld\", \"Hello Woorld\""
      ]
    },
    {
      "cell_type": "markdown",
      "id": "5dd0b4e4",
      "metadata": {
        "id": "5dd0b4e4"
      },
      "source": [
        "### USING REGEX IN A FUNCTION"
      ]
    },
    {
      "cell_type": "markdown",
      "id": "d6c19121",
      "metadata": {
        "id": "d6c19121"
      },
      "source": [
        "So why is regex important? Regex is useful to string matching especially when you do not know what the sentence will be but have some rules/guidlines as to what it might be."
      ]
    },
    {
      "cell_type": "code",
      "execution_count": null,
      "id": "86556764",
      "metadata": {
        "id": "86556764"
      },
      "outputs": [],
      "source": [
        "import re"
      ]
    },
    {
      "cell_type": "code",
      "execution_count": null,
      "id": "f4091048",
      "metadata": {
        "id": "f4091048"
      },
      "outputs": [],
      "source": [
        "def find_name(text):\n",
        "    if text:\n",
        "        sentence = text\n",
        "        ans = re.search('^This (.)*is ([a-zA-Z])*\\.', text)\n",
        "        if ans:\n",
        "            name_sent = sentence[ans.span()[0]:ans.span()[1]]\n",
        "            return name_sent.split('is ')[-1].strip('.')\n",
        "        ans = re.search('^(Meet) ([a-zA-Z])*', text)\n",
        "        if ans:\n",
        "            name_sent = sentence[ans.span()[0]:ans.span()[1]]\n",
        "            return name_sent.split('Meet ')[-1]\n",
        "    return None"
      ]
    },
    {
      "cell_type": "code",
      "execution_count": null,
      "id": "bb2e8f40",
      "metadata": {
        "id": "bb2e8f40",
        "outputId": "8d81df94-5bcc-4d9b-89d3-e6e8677abd9f"
      },
      "outputs": [
        {
          "data": {
            "text/plain": [
              "'Skittles'"
            ]
          },
          "execution_count": 417,
          "metadata": {},
          "output_type": "execute_result"
        }
      ],
      "source": [
        "find_name(\"This is Skittles. I would kidnap Skittles. Pink dog in back hasn't moved in days. 12/10 https://t.co/2wm0POA9N2\")"
      ]
    },
    {
      "cell_type": "code",
      "execution_count": null,
      "id": "bebec7a8",
      "metadata": {
        "id": "bebec7a8"
      },
      "outputs": [],
      "source": []
    },
    {
      "cell_type": "code",
      "execution_count": null,
      "id": "266315a0",
      "metadata": {
        "id": "266315a0"
      },
      "outputs": [],
      "source": []
    },
    {
      "cell_type": "markdown",
      "id": "35f8ce27",
      "metadata": {
        "id": "35f8ce27"
      },
      "source": [
        "### Write data as text"
      ]
    },
    {
      "cell_type": "code",
      "execution_count": null,
      "id": "b3865024",
      "metadata": {
        "id": "b3865024"
      },
      "outputs": [],
      "source": [
        "#Write some data to a text file, note that this should be a string\n",
        "test_string = 'This is some fun text.'\n",
        "with open('unnamedtextfile.txt', 'w') as f:\n",
        "    f.write(test_string)"
      ]
    },
    {
      "cell_type": "code",
      "execution_count": null,
      "id": "452e5a0c",
      "metadata": {
        "id": "452e5a0c"
      },
      "outputs": [],
      "source": []
    }
  ],
  "metadata": {
    "kernelspec": {
      "display_name": "Python 3 (ipykernel)",
      "language": "python",
      "name": "python3"
    },
    "language_info": {
      "codemirror_mode": {
        "name": "ipython",
        "version": 3
      },
      "file_extension": ".py",
      "mimetype": "text/x-python",
      "name": "python",
      "nbconvert_exporter": "python",
      "pygments_lexer": "ipython3",
      "version": "3.9.12"
    },
    "colab": {
      "provenance": [],
      "collapsed_sections": [
        "d4477472"
      ],
      "include_colab_link": true
    }
  },
  "nbformat": 4,
  "nbformat_minor": 5
}